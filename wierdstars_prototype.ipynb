{
 "cells": [
  {
   "cell_type": "code",
   "execution_count": 1,
   "id": "1c0da277-0441-4aac-be2f-e07da899007d",
   "metadata": {},
   "outputs": [],
   "source": [
    "# Please install julia and Korg\n",
    "# https://ajwheeler.github.io/Korg.jl/stable/install/"
   ]
  },
  {
   "cell_type": "code",
   "execution_count": null,
   "id": "19ad14db-8b0d-4cf4-a4c8-22106eece590",
   "metadata": {},
   "outputs": [],
   "source": [
    "# Korg takes sometime when you run first time as it needs to precompile codes (that is my understanding)"
   ]
  },
  {
   "cell_type": "code",
   "execution_count": 2,
   "id": "66895465-4a20-4a51-9f01-6082fcbf5db0",
   "metadata": {},
   "outputs": [
    {
     "name": "stdout",
     "output_type": "stream",
     "text": [
      "Detected IPython. Loading juliacall extension. See https://juliapy.github.io/PythonCall.jl/stable/compat/#IPython\n"
     ]
    }
   ],
   "source": [
    "from juliacall import Main as jl\n",
    "jl.seval(\"using Korg\")\n",
    "Korg = jl.Korg"
   ]
  },
  {
   "cell_type": "code",
   "execution_count": 19,
   "id": "207624ff-dca9-4dc8-9563-44d53080182c",
   "metadata": {},
   "outputs": [],
   "source": [
    "import matplotlib.pyplot as plt\n",
    "import time\n",
    "import pandas\n",
    "import numpy as np"
   ]
  },
  {
   "cell_type": "code",
   "execution_count": 4,
   "id": "0fe7dda4-eebb-40f8-bd86-60b019729246",
   "metadata": {},
   "outputs": [],
   "source": [
    "lines = Korg.get_VALD_solar_linelist()"
   ]
  },
  {
   "cell_type": "code",
   "execution_count": 14,
   "id": "d501c30a-df4a-478c-8c31-84f45bbe9bb6",
   "metadata": {},
   "outputs": [],
   "source": [
    "metal_poor_A_X = Korg.format_A_X(-2.0) \n",
    "metal_poor_atm = Korg.interpolate_marcs(5100, 2.1, metal_poor_A_X)\n",
    "# This part is slow when you run this cell for the first time after you open this notebook\n",
    "# It becomes extremely fast from the second run even if you change parameters"
   ]
  },
  {
   "cell_type": "code",
   "execution_count": 15,
   "id": "4e13f307-f38c-4cac-b52e-471806fa4fff",
   "metadata": {},
   "outputs": [],
   "source": [
    "# This is to construct an abundance input\n",
    "# It means [Fe/H] = -2.0, and A(Li) = 2.0 ([Li/H] = 2.0 if solar_relative=True)\n",
    "li_rich = Korg.format_A_X(-2.0,{\"Li\":2.0},solar_relative=False)\n",
    "spec_lirich = Korg.synthesize(metal_poor_atm,lines,li_rich,6705,6715)\n",
    "li_poor = Korg.format_A_X(-2.0,{\"Li\":0.0},solar_relative=False)\n",
    "spec_lipoor = Korg.synthesize(metal_poor_atm,lines,li_poor,6705,6715)\n",
    "# The difference between Korg.synthesize and Korg.synth is that synthesize allows more control"
   ]
  },
  {
   "cell_type": "code",
   "execution_count": 16,
   "id": "8cfe261e-0fe1-4409-8f39-793cb0b3ac8a",
   "metadata": {},
   "outputs": [],
   "source": [
    "# We can apply a smoothing like this\n",
    "flux_lipoor = Korg.apply_LSF(spec_lipoor.flux.to_numpy()/spec_lipoor.cntm.to_numpy(),\n",
    "                             spec_lipoor.wavelengths,20000)\n",
    "\n",
    "flux_lirich = Korg.apply_LSF(spec_lirich.flux.to_numpy()/spec_lirich.cntm.to_numpy(),\n",
    "                             spec_lirich.wavelengths,20000)"
   ]
  },
  {
   "cell_type": "code",
   "execution_count": 17,
   "id": "fd9134ac-ebd4-44ef-ae53-4699dd4627e1",
   "metadata": {},
   "outputs": [
    {
     "data": {
      "text/plain": [
       "(0.0, 1.1)"
      ]
     },
     "execution_count": 17,
     "metadata": {},
     "output_type": "execute_result"
    },
    {
     "data": {
      "image/png": "[encoded data removed]",
      "text/plain": [
       "<Figure size 640x480 with 1 Axes>"
      ]
     },
     "metadata": {},
     "output_type": "display_data"
    }
   ],
   "source": [
    "plt.plot(spec_lirich.wavelengths.to_numpy(),\\\n",
    "         flux_lirich,'r-')\n",
    "plt.plot(spec_lipoor.wavelengths.to_numpy(),\\\n",
    "         flux_lipoor,'k-')\n",
    "plt.xlim(6708,6712)\n",
    "plt.ylim(0.0,1.1)"
   ]
  },
  {
   "cell_type": "code",
   "execution_count": 18,
   "id": "31164e86-b9b9-47c0-b62a-8e9a85ce64d5",
   "metadata": {},
   "outputs": [],
   "source": [
    "def Korglinelist2pandasdf(lines):\n",
    "    '''\n",
    "    This function converts Korg's linelist object to pandas dataframe\n",
    "    '''\n",
    "    lines_list = [(line.wl*1.0e8,str(line.species),line.E_lower,line.log_gf,line.vdW[0],line.vdW[1],line.gamma_rad,line.gamma_stark) \\\n",
    "         for line in lines.to_numpy()]\n",
    "    return pandas.DataFrame(lines_list, columns=[\"wavelength\",\"species\",\"expot\",\"loggf\",\"vdW1\",\"vdw2\",\"gamma_rad\",\"gamma_stark\"])"
   ]
  },
  {
   "cell_type": "code",
   "execution_count": 20,
   "id": "7793645d-fecf-4afc-9be3-b11101a37198",
   "metadata": {},
   "outputs": [],
   "source": [
    "Korglinelist2pandasdf(lines).to_csv(\"./linelist.csv\",index=None)"
   ]
  },
  {
   "cell_type": "code",
   "execution_count": 65,
   "id": "e36a624d-03ba-43fc-9acd-6750eb361020",
   "metadata": {},
   "outputs": [],
   "source": []
  },
  {
   "cell_type": "code",
   "execution_count": null,
   "id": "793029ff-a283-4d22-bd9b-5698b9a9dc98",
   "metadata": {},
   "outputs": [],
   "source": []
  }
 ],
 "metadata": {
  "kernelspec": {
   "display_name": "Python 3 (ipykernel)",
   "language": "python",
   "name": "python3"
  },
  "language_info": {
   "codemirror_mode": {
    "name": "ipython",
    "version": 3
   },
   "file_extension": ".py",
   "mimetype": "text/x-python",
   "name": "python",
   "nbconvert_exporter": "python",
   "pygments_lexer": "ipython3",
   "version": "3.12.3"
  }
 },
 "nbformat": 4,
 "nbformat_minor": 5
}
